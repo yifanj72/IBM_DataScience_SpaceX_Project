{
    "cells": [
        {
            "cell_type": "code",
            "execution_count": 2,
            "metadata": {},
            "outputs": [
                {
                    "name": "stdout",
                    "output_type": "stream",
                    "text": "Collecting dash\n  Downloading dash-2.0.0-py3-none-any.whl (7.3 MB)\n\u001b[K     |\u2588\u2588\u2588\u2588\u2588\u2588\u2588\u2588\u2588\u2588\u2588\u2588\u2588\u2588\u2588\u2588\u2588\u2588\u2588\u2588\u2588\u2588\u2588\u2588\u2588\u2588\u2588\u2588\u2588\u2588\u2588\u2588| 7.3 MB 25.3 MB/s eta 0:00:01\n\u001b[?25hCollecting plotly>=5.0.0\n  Downloading plotly-5.5.0-py2.py3-none-any.whl (26.5 MB)\n\u001b[K     |\u2588\u2588\u2588\u2588\u2588\u2588\u2588\u2588\u2588\u2588\u2588\u2588\u2588\u2588\u2588\u2588\u2588\u2588\u2588\u2588\u2588\u2588\u2588\u2588\u2588\u2588\u2588\u2588\u2588\u2588\u2588\u2588| 26.5 MB 62.2 MB/s eta 0:00:01\n\u001b[?25hCollecting dash-table==5.0.0\n  Downloading dash_table-5.0.0.tar.gz (3.4 kB)\nCollecting dash-html-components==2.0.0\n  Downloading dash_html_components-2.0.0.tar.gz (3.8 kB)\nCollecting flask-compress\n  Downloading Flask_Compress-1.10.1-py3-none-any.whl (7.9 kB)\nCollecting dash-core-components==2.0.0\n  Downloading dash_core_components-2.0.0.tar.gz (3.4 kB)\nCollecting Flask>=1.0.4\n  Downloading Flask-2.0.2-py3-none-any.whl (95 kB)\n\u001b[K     |\u2588\u2588\u2588\u2588\u2588\u2588\u2588\u2588\u2588\u2588\u2588\u2588\u2588\u2588\u2588\u2588\u2588\u2588\u2588\u2588\u2588\u2588\u2588\u2588\u2588\u2588\u2588\u2588\u2588\u2588\u2588\u2588| 95 kB 12.0 MB/s eta 0:00:01\n\u001b[?25hRequirement already satisfied: click>=7.1.2 in /opt/conda/envs/Python-3.8-main/lib/python3.8/site-packages (from Flask>=1.0.4->dash) (7.1.2)\nCollecting itsdangerous>=2.0\n  Downloading itsdangerous-2.0.1-py3-none-any.whl (18 kB)\nRequirement already satisfied: Werkzeug>=2.0 in /opt/conda/envs/Python-3.8-main/lib/python3.8/site-packages (from Flask>=1.0.4->dash) (2.0.1)\nRequirement already satisfied: Jinja2>=3.0 in /opt/conda/envs/Python-3.8-main/lib/python3.8/site-packages (from Flask>=1.0.4->dash) (3.0.0)\nRequirement already satisfied: MarkupSafe>=2.0.0rc2 in /opt/conda/envs/Python-3.8-main/lib/python3.8/site-packages (from Jinja2>=3.0->Flask>=1.0.4->dash) (2.0.1)\nRequirement already satisfied: six in /opt/conda/envs/Python-3.8-main/lib/python3.8/site-packages (from plotly>=5.0.0->dash) (1.15.0)\nCollecting tenacity>=6.2.0\n  Downloading tenacity-8.0.1-py3-none-any.whl (24 kB)\nCollecting brotli\n  Downloading Brotli-1.0.9-cp38-cp38-manylinux1_x86_64.whl (357 kB)\n\u001b[K     |\u2588\u2588\u2588\u2588\u2588\u2588\u2588\u2588\u2588\u2588\u2588\u2588\u2588\u2588\u2588\u2588\u2588\u2588\u2588\u2588\u2588\u2588\u2588\u2588\u2588\u2588\u2588\u2588\u2588\u2588\u2588\u2588| 357 kB 62.1 MB/s eta 0:00:01\n\u001b[?25hBuilding wheels for collected packages: dash-core-components, dash-html-components, dash-table\n  Building wheel for dash-core-components (setup.py) ... \u001b[?25ldone\n\u001b[?25h  Created wheel for dash-core-components: filename=dash_core_components-2.0.0-py3-none-any.whl size=3804 sha256=a6062e4f032730619b05ab5916dfc9de4da2da76bde0f360f2e427b3d7d82f07\n  Stored in directory: /tmp/wsuser/.cache/pip/wheels/52/e4/f3/16724791571a955a46d54650510c98c04ab7d339626aee27cc\n  Building wheel for dash-html-components (setup.py) ... \u001b[?25ldone\n\u001b[?25h  Created wheel for dash-html-components: filename=dash_html_components-2.0.0-py3-none-any.whl size=4069 sha256=c3f8f77a6d9ba355a026b464bbfbccf7d6e40e2296b71d789e448b2038139cc3\n  Stored in directory: /tmp/wsuser/.cache/pip/wheels/73/d8/8d/92f612c03c895f19bcc56a6c54be7bb41aaa698012a5624f60\n  Building wheel for dash-table (setup.py) ... \u001b[?25ldone\n\u001b[?25h  Created wheel for dash-table: filename=dash_table-5.0.0-py3-none-any.whl size=3897 sha256=0aef9767b066f886c9abfba3454ecea6f8ff8ba7771df4fb5f44438b50230ef2\n  Stored in directory: /tmp/wsuser/.cache/pip/wheels/a6/fb/f5/4adf241f384634f52028f15eab6a325e77b8766a0a00816bbf\nSuccessfully built dash-core-components dash-html-components dash-table\nInstalling collected packages: itsdangerous, tenacity, Flask, brotli, plotly, flask-compress, dash-table, dash-html-components, dash-core-components, dash\n  Attempting uninstall: plotly\n    Found existing installation: plotly 4.14.3\n    Uninstalling plotly-4.14.3:\n      Successfully uninstalled plotly-4.14.3\nSuccessfully installed Flask-2.0.2 brotli-1.0.9 dash-2.0.0 dash-core-components-2.0.0 dash-html-components-2.0.0 dash-table-5.0.0 flask-compress-1.10.1 itsdangerous-2.0.1 plotly-5.5.0 tenacity-8.0.1\n"
                }
            ],
            "source": "!pip install dash"
        },
        {
            "cell_type": "code",
            "execution_count": 3,
            "metadata": {},
            "outputs": [
                {
                    "name": "stderr",
                    "output_type": "stream",
                    "text": "/tmp/wsuser/ipykernel_591/1399112611.py:4: UserWarning: \nThe dash_html_components package is deprecated. Please replace\n`import dash_html_components as html` with `from dash import html`\n  import dash_html_components as html\n/tmp/wsuser/ipykernel_591/1399112611.py:5: UserWarning: \nThe dash_core_components package is deprecated. Please replace\n`import dash_core_components as dcc` with `from dash import dcc`\n  import dash_core_components as dcc\n"
                }
            ],
            "source": "# Import required libraries\nimport pandas as pd\nimport dash\nimport dash_html_components as html\nimport dash_core_components as dcc\nfrom dash.dependencies import Input, Output\nimport plotly.express as px"
        },
        {
            "cell_type": "code",
            "execution_count": null,
            "metadata": {},
            "outputs": [],
            "source": "spacex_df = pd.read_csv(\"https://cf-courses-data.s3.us.cloud-object-storage.appdomain.cloud/IBM-DS0321EN-SkillsNetwork/datasets/spacex_launch_dash.csv\")\nmax_payload = spacex_df['Payload Mass (kg)'].max()\nmin_payload = spacex_df['Payload Mass (kg)'].min()\n\n\napp = dash.Dash(__name__)\n\nuniquelaunchsites = spacex_df['Launch Site'].unique().tolist()\nlsites = []\nlsites.append({'label': 'All Sites', 'value': 'All Sites'})\nfor site in uniquelaunchsites:\n lsites.append({'label': site, 'value': site})                                                                 \n\n                               \napp.layout = html.Div(children=[html.H1('SpaceX Launch Records Dashboard',\n                                        style={'textAlign': 'center', 'color': '#503D36',\n                                               'font-size': 40}),\n                \n                                \n\n                    \n                                dcc.Dropdown(id='site_dropdown',options=lsites,placeholder='Select a Launch Site here', searchable = True , value = 'All Sites'),\n                                html.Br(),\n\n                       \n                                html.Div(dcc.Graph(id='success-pie-chart')),\n                                html.Br(),\n\n                                html.P(\"Payload range (Kg):\"),\n                             \n                                dcc.RangeSlider(\n                                    id='payload_slider',\n                                    min=0,\n                                    max=10000,\n                                    step=1000,  \n                                    marks = {\n                                            0: '0 kg',\n                                            1000: '1000 kg',\n                                            2000: '2000 kg',\n                                            3000: '3000 kg',\n                                            4000: '4000 kg',\n                                            5000: '5000 kg',\n                                            6000: '6000 kg',  \n                                            7000: '7000 kg',\n                                            8000: '8000 kg',\n                                            9000: '9000 kg',\n                                            10000: '10000 kg'                                         \n                                    },\n\n                                    value=[min_payload,max_payload]\n                                ),\n                            \n                                html.Div(dcc.Graph(id='success-payload-scatter-chart')),\n                              \n                                ])\n\n# add callback decorator\n@app.callback(\n     Output(component_id='success-pie-chart',component_property='figure'),\n     [Input(component_id='site_dropdown',component_property='value')]               \n)\ndef update_graph(site_dropdown):\n    if (site_dropdown == 'All Sites'):\n        df  = spacex_df[spacex_df['class'] == 1]\n        fig = px.pie(df, names = 'Launch Site',hole=.3,title = 'Total Success Launches By all sites')\n    else:\n        df  = spacex_df.loc[spacex_df['Launch Site'] == site_dropdown]\n        fig = px.pie(df, names = 'class',hole=.3,title = 'Total Success Launches for site '+site_dropdown)\n    return fig\n\n@app.callback(\n     Output(component_id='success-payload-scatter-chart',component_property='figure'),\n     [Input(component_id='site_dropdown',component_property='value'),Input(component_id=\"payload_slider\", component_property=\"value\")]               \n)\ndef update_scattergraph(site_dropdown,payload_slider):\n    if site_dropdown == 'All Sites':\n        low, high = payload_slider\n        df  = spacex_df\n        mask = (df['Payload Mass (kg)'] > low) & (df['Payload Mass (kg)'] < high)\n        fig = px.scatter(\n            df[mask], x=\"Payload Mass (kg)\", y=\"class\", \n            color=\"Booster Version\",\n            size='Payload Mass (kg)',\n            hover_data=['Payload Mass (kg)'])\n    else:\n        low, high = payload_slider\n        df  = spacex_df.loc[spacex_df['Launch Site'] == site_dropdown]\n        mask = (df['Payload Mass (kg)'] > low) & (df['Payload Mass (kg)'] < high)\n        fig = px.scatter(\n            df[mask], x=\"Payload Mass (kg)\", y=\"class\", \n            color=\"Booster Version\",\n            size='Payload Mass (kg)',\n            hover_data=['Payload Mass (kg)'])\n    return fig\n\n\nif __name__ == '__main__':\n    app.run_server()"
        },
        {
            "cell_type": "code",
            "execution_count": null,
            "metadata": {},
            "outputs": [],
            "source": ""
        }
    ],
    "metadata": {
        "kernelspec": {
            "display_name": "Python 3.8",
            "language": "python",
            "name": "python3"
        },
        "language_info": {
            "codemirror_mode": {
                "name": "ipython",
                "version": 3
            },
            "file_extension": ".py",
            "mimetype": "text/x-python",
            "name": "python",
            "nbconvert_exporter": "python",
            "pygments_lexer": "ipython3",
            "version": "3.8.12"
        }
    },
    "nbformat": 4,
    "nbformat_minor": 1
}